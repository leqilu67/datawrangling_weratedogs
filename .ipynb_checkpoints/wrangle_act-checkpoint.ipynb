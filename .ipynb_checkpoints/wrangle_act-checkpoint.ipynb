{
 "cells": [
  {
   "cell_type": "code",
   "execution_count": 1,
   "id": "inclusive-gauge",
   "metadata": {},
   "outputs": [],
   "source": [
    "import pandas as pd"
   ]
  },
  {
   "cell_type": "code",
   "execution_count": 2,
   "id": "engaging-jacket",
   "metadata": {},
   "outputs": [],
   "source": [
    "df = pd.read_csv('twitter-archive-enhanced.csv')"
   ]
  },
  {
   "cell_type": "code",
   "execution_count": 114,
   "id": "reliable-soundtrack",
   "metadata": {},
   "outputs": [
    {
     "name": "stdout",
     "output_type": "stream",
     "text": [
      "<class 'pandas.core.frame.DataFrame'>\n",
      "RangeIndex: 2356 entries, 0 to 2355\n",
      "Data columns (total 17 columns):\n",
      " #   Column                      Non-Null Count  Dtype  \n",
      "---  ------                      --------------  -----  \n",
      " 0   tweet_id                    2356 non-null   int64  \n",
      " 1   in_reply_to_status_id       78 non-null     float64\n",
      " 2   in_reply_to_user_id         78 non-null     float64\n",
      " 3   timestamp                   2356 non-null   object \n",
      " 4   source                      2356 non-null   object \n",
      " 5   text                        2356 non-null   object \n",
      " 6   retweeted_status_id         181 non-null    float64\n",
      " 7   retweeted_status_user_id    181 non-null    float64\n",
      " 8   retweeted_status_timestamp  181 non-null    object \n",
      " 9   expanded_urls               2297 non-null   object \n",
      " 10  rating_numerator            2356 non-null   int64  \n",
      " 11  rating_denominator          2356 non-null   int64  \n",
      " 12  name                        2356 non-null   object \n",
      " 13  doggo                       2356 non-null   object \n",
      " 14  floofer                     2356 non-null   object \n",
      " 15  pupper                      2356 non-null   object \n",
      " 16  puppo                       2356 non-null   object \n",
      "dtypes: float64(4), int64(3), object(10)\n",
      "memory usage: 313.0+ KB\n"
     ]
    }
   ],
   "source": [
    "df.info(3)"
   ]
  },
  {
   "cell_type": "code",
   "execution_count": 56,
   "id": "civic-samba",
   "metadata": {},
   "outputs": [],
   "source": [
    "import tweepy"
   ]
  },
  {
   "cell_type": "code",
   "execution_count": 57,
   "id": "appreciated-substance",
   "metadata": {},
   "outputs": [],
   "source": [
    "with open('keys.txt', 'r') as file:\n",
    "    api_key = file.readline().split()[2]\n",
    "    api_secret = file.readline().split()[2]\n",
    "    access_token = file.readline().split()[2]\n",
    "    access_secret = file.readline().split()[2]"
   ]
  },
  {
   "cell_type": "code",
   "execution_count": 58,
   "id": "fantastic-jerusalem",
   "metadata": {},
   "outputs": [],
   "source": [
    "auth = tweepy.OAuthHandler(api_key, api_secret)\n",
    "auth.set_access_token(access_token, access_secret)\n",
    "\n",
    "api = tweepy.API(auth)"
   ]
  },
  {
   "cell_type": "code",
   "execution_count": 69,
   "id": "curious-dialogue",
   "metadata": {},
   "outputs": [
    {
     "name": "stdout",
     "output_type": "stream",
     "text": [
      "@neruneru_ffxiv ???\n",
      "Pototoland it is.\n",
      "\n",
      "https://t.co/vWegdnpneG\n",
      "#AnimalCrossing #ACNH #IslandTourCreator https://t.co/99LkTIpBEr https://t.co/JcgEe0XHbN\n",
      "@neruneru_ffxiv @taichi3182 ???\n",
      "little sillies \n",
      "\n",
      "#AnimalCrossing #ACNH https://t.co/tZqUzKNxHx\n",
      "RT @taichi3182: 久しぶりのFCでのSS会\n",
      "いきなりいい写真が撮れたb\n",
      "\n",
      "nerupy may be jealous!\n",
      "\n",
      "そして、周りをよく見てみると・・・・黒いサングラスでの女性に見られていた！！！ https://t.co/cl6kC0KTRX\n",
      "@taichi3182 @neruneru_ffxiv @Angelet_ff14 @Blancheffxiv @ramiaru @DodonKen @manashi_ffxiv ひさしぶり～　たのしかった\n",
      "@neruneru_ffxiv what are you looking at 😒\n",
      "@ramiaru ほしい　 🥲\n",
      "Halloween Murder Mystery Party https://t.co/AE3hBqsGfy\n",
      "@neruneru_ffxiv https://t.co/jXgVY53ERz\n",
      "@taichi3182 真実はいつもひとつ！\n",
      "@neruneru_ffxiv child labor\n",
      "Chibi Pototoooo\n",
      "\n",
      "#FFXIV #ff14 #ちびまる子ちゃん https://t.co/IHUhAE7tzN\n",
      "LALAAAAs https://t.co/cD6XwX0G8C\n",
      "#AnimalCrossing #ACNH #NintendoSwitch https://t.co/eCgx1UHguc\n",
      "#Easter #AnimalCrossing #ACNH #NintendoSwitch https://t.co/8Q3xmAE9Bc\n",
      "#homedepot #AnimalCrossing #ACNH #NintendoSwitch https://t.co/79fkmJd4SO\n",
      "#ffxiv #AnimalCrossing #ACNH #NintendoSwitch https://t.co/tbF89i9flf\n",
      "@neruneru_ffxiv That evil grin...\n"
     ]
    }
   ],
   "source": [
    "public_tweets = api.user_timeline(\"pototo_mototo\")\n",
    "for tweet in public_tweets:\n",
    "    print(tweet.text)"
   ]
  },
  {
   "cell_type": "code",
   "execution_count": 94,
   "id": "dimensional-neutral",
   "metadata": {
    "scrolled": false
   },
   "outputs": [
    {
     "data": {
      "text/plain": [
       "18789"
      ]
     },
     "execution_count": 94,
     "metadata": {},
     "output_type": "execute_result"
    }
   ],
   "source": [
    "api.get_status(id=\"876838120628539392\").favorite_count"
   ]
  },
  {
   "cell_type": "code",
   "execution_count": 117,
   "id": "macro-circuit",
   "metadata": {},
   "outputs": [
    {
     "name": "stdout",
     "output_type": "stream",
     "text": [
      "3 / 2356, 2\n"
     ]
    }
   ],
   "source": [
    "count = 3\n",
    "print('{count} / 2356, {id}'.format(count=count, id=tweet_id))"
   ]
  },
  {
   "cell_type": "code",
   "execution_count": 112,
   "id": "checked-appearance",
   "metadata": {},
   "outputs": [
    {
     "data": {
      "text/plain": [
       "2909"
      ]
     },
     "execution_count": 112,
     "metadata": {},
     "output_type": "execute_result"
    }
   ],
   "source": [
    "api.get_status(id=\"876838120628539392\").retweet_count"
   ]
  },
  {
   "cell_type": "code",
   "execution_count": null,
   "id": "moral-puppy",
   "metadata": {
    "scrolled": false
   },
   "outputs": [],
   "source": [
    "df_fav_and_retweet = []\n",
    "count = 1\n",
    "for tweet_id in df['tweet_id']:\n",
    "    try:\n",
    "        tweet = api.get_status(id=tweet_id)\n",
    "        fav = tweet.favorite_count\n",
    "        retweet = tweet.retweet_count\n",
    "    except:\n",
    "        print('tweet deleted: ', tweet_id)\n",
    "        fav = 0\n",
    "        retweet = 0\n",
    "    df_fav_and_retweet.append({'tweet_id': tweet_id,\n",
    "                              'favorite_count': fav,\n",
    "                              'retweet_count': retweet})\n",
    "    print('{count} / 2356, {id}'.format(count=count, id=tweet_id))\n",
    "    count = count+1"
   ]
  },
  {
   "cell_type": "code",
   "execution_count": null,
   "id": "detailed-silicon",
   "metadata": {},
   "outputs": [],
   "source": []
  }
 ],
 "metadata": {
  "kernelspec": {
   "display_name": "Python 3",
   "language": "python",
   "name": "python3"
  },
  "language_info": {
   "codemirror_mode": {
    "name": "ipython",
    "version": 3
   },
   "file_extension": ".py",
   "mimetype": "text/x-python",
   "name": "python",
   "nbconvert_exporter": "python",
   "pygments_lexer": "ipython3",
   "version": "3.8.8"
  }
 },
 "nbformat": 4,
 "nbformat_minor": 5
}
